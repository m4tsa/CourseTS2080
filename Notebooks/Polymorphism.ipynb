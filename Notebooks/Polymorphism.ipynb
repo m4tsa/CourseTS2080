{
 "cells": [
  {
   "cell_type": "code",
   "execution_count": 2,
   "id": "e0cceacb-11a5-4052-a51e-dfbc5bedacb1",
   "metadata": {},
   "outputs": [
    {
     "name": "stdout",
     "output_type": "stream",
     "text": [
      "Circle\n",
      "153.93804002589985\n",
      "I am a two-dimensional shape.\n",
      "Square\n",
      "25\n",
      "I am a two-dimensional shape.\n"
     ]
    }
   ],
   "source": [
    "from math import pi\n",
    "class Shape:\n",
    "    def __init__(self, name):\n",
    "        self.name = name\n",
    "    \n",
    "    def area(self):\n",
    "        pass\n",
    "    \n",
    "    def fact(self):\n",
    "        return \"I am a two-dimensional shape.\"\n",
    "\n",
    "    def __str__(self):\n",
    "        return self.name\n",
    "    \n",
    "class Circle(Shape):\n",
    "    def __init__(self, radius):\n",
    "        super().__init__(\"Circle\")\n",
    "        self.radius = radius\n",
    "        \n",
    "    def area(self):\n",
    "        return pi*self.radius**2\n",
    "    \n",
    "shape_circle = Circle(7)\n",
    "\n",
    "print(shape_circle)\n",
    "print(shape_circle.area())\n",
    "print(shape_circle.fact())\n",
    "\n",
    "class Square(Shape):\n",
    "    def __init__(self, size):\n",
    "        super().__init__(\"Square\")\n",
    "        self.size = size\n",
    "        \n",
    "    def area(self):\n",
    "        return self.size**2\n",
    "\n",
    "shape_square = Square(5)\n",
    "\n",
    "print(shape_square)\n",
    "print(shape_square.area())\n",
    "print(shape_square.fact())"
   ]
  }
 ],
 "metadata": {
  "kernelspec": {
   "display_name": "Python 3 (ipykernel)",
   "language": "python",
   "name": "python3"
  },
  "language_info": {
   "codemirror_mode": {
    "name": "ipython",
    "version": 3
   },
   "file_extension": ".py",
   "mimetype": "text/x-python",
   "name": "python",
   "nbconvert_exporter": "python",
   "pygments_lexer": "ipython3",
   "version": "3.9.12"
  }
 },
 "nbformat": 4,
 "nbformat_minor": 5
}
