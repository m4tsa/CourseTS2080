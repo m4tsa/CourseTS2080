{
 "cells": [
  {
   "cell_type": "code",
   "execution_count": 4,
   "id": "e745cc43-36d2-4c36-9448-35e705b457ef",
   "metadata": {},
   "outputs": [],
   "source": [
    "# Define class with public fields\n",
    "class Employee:\n",
    "    # Define constructor\n",
    "    def __init__(self, name, salary, project):\n",
    "        self.name = name\n",
    "        self.salary = salary\n",
    "        self.project = project"
   ]
  },
  {
   "cell_type": "code",
   "execution_count": 7,
   "id": "8ea7c7f3-e6f4-4027-b3bb-91a902f26a2a",
   "metadata": {},
   "outputs": [
    {
     "name": "stdout",
     "output_type": "stream",
     "text": [
      "Jessa\n",
      "8000\n",
      "NLP\n"
     ]
    }
   ],
   "source": [
    "# Create the employee object\n",
    "emp = Employee(\"Jessa\", 8000, \"NLP\")\n",
    "\n",
    "print(emp.name)\n",
    "print(emp.salary)\n",
    "print(emp.project)"
   ]
  },
  {
   "cell_type": "code",
   "execution_count": 8,
   "id": "012466ab-38ff-418b-b060-31499e3482ed",
   "metadata": {},
   "outputs": [
    {
     "ename": "AttributeError",
     "evalue": "'Employee' object has no attribute '__salary'",
     "output_type": "error",
     "traceback": [
      "\u001b[0;31m---------------------------------------------------------------------------\u001b[0m",
      "\u001b[0;31mAttributeError\u001b[0m                            Traceback (most recent call last)",
      "Input \u001b[0;32mIn [8]\u001b[0m, in \u001b[0;36m<cell line: 11>\u001b[0;34m()\u001b[0m\n\u001b[1;32m      8\u001b[0m \u001b[38;5;66;03m# Create the employee object\u001b[39;00m\n\u001b[1;32m      9\u001b[0m emp \u001b[38;5;241m=\u001b[39m Employee(\u001b[38;5;124m\"\u001b[39m\u001b[38;5;124mJessa\u001b[39m\u001b[38;5;124m\"\u001b[39m, \u001b[38;5;241m8000\u001b[39m)\n\u001b[0;32m---> 11\u001b[0m \u001b[38;5;28mprint\u001b[39m(\u001b[43memp\u001b[49m\u001b[38;5;241;43m.\u001b[39;49m\u001b[43m__salary\u001b[49m)\n",
      "\u001b[0;31mAttributeError\u001b[0m: 'Employee' object has no attribute '__salary'"
     ]
    }
   ],
   "source": [
    "# Define class w/ private field\n",
    "class Employee:\n",
    "    # Define constructor\n",
    "    def __init__(self, name, salary):\n",
    "        self.name = name\n",
    "        self.__salary = salary\n",
    "        \n",
    "# Create the employee object\n",
    "emp = Employee(\"Jessa\", 8000)\n",
    "\n",
    "print(emp.__salary)"
   ]
  },
  {
   "cell_type": "code",
   "execution_count": 13,
   "id": "12a01ba8-4e94-4b95-b611-afacec3c7f36",
   "metadata": {},
   "outputs": [
    {
     "name": "stdout",
     "output_type": "stream",
     "text": [
      "Name:  Jessa \n",
      "Salary:  8000\n",
      "8000\n"
     ]
    }
   ],
   "source": [
    "# Define class w/ private field\n",
    "class Employee:\n",
    "    # Define constructor\n",
    "    def __init__(self, name, salary):\n",
    "        self.name = name\n",
    "        self.__salary = salary\n",
    "\n",
    "    def show(self):\n",
    "        print(\"Name: \", self.name, \"\\nSalary: \", self.__salary)\n",
    "        \n",
    "# Create the employee object\n",
    "emp = Employee(\"Jessa\", 8000)\n",
    "\n",
    "emp.show()\n",
    "\n",
    "# Name mangeling of data members (Python)\n",
    "print(emp._Employee__salary)"
   ]
  },
  {
   "cell_type": "code",
   "execution_count": 26,
   "id": "41b266c1-2877-4c4f-9b63-cd9ab0f957e7",
   "metadata": {},
   "outputs": [
    {
     "name": "stdout",
     "output_type": "stream",
     "text": [
      "Employee name:  Jessa\n",
      "Project name:  NLP\n",
      "NLP\n"
     ]
    }
   ],
   "source": [
    "# Define class w/ protected field\n",
    "class Company:\n",
    "    def __init__(self):\n",
    "        self._project = \"NLP\"\n",
    "\n",
    "class Employee(Company):\n",
    "    # Define constructor\n",
    "    def __init__(self, name):\n",
    "        Company.__init__(self)\n",
    "        self.name = name\n",
    "\n",
    "    def show(self):\n",
    "        print(\"Employee name: \", self.name)\n",
    "        print(\"Project name: \", self._project)\n",
    "        \n",
    "# Create the employee object\n",
    "emp = Employee(\"Jessa\")\n",
    "\n",
    "emp.show()\n",
    "\n",
    "# Name mangeling of data members (Python)\n",
    "print(emp._project)\n"
   ]
  }
 ],
 "metadata": {
  "kernelspec": {
   "display_name": "Python 3 (ipykernel)",
   "language": "python",
   "name": "python3"
  },
  "language_info": {
   "codemirror_mode": {
    "name": "ipython",
    "version": 3
   },
   "file_extension": ".py",
   "mimetype": "text/x-python",
   "name": "python",
   "nbconvert_exporter": "python",
   "pygments_lexer": "ipython3",
   "version": "3.9.12"
  }
 },
 "nbformat": 4,
 "nbformat_minor": 5
}
