{
 "cells": [
  {
   "cell_type": "code",
   "execution_count": 2,
   "id": "6d4ea59d-d1ad-41f5-be21-7aa6caef6029",
   "metadata": {},
   "outputs": [],
   "source": [
    "from abc import ABC,abstractmethod\n",
    "\n",
    "class Animal(ABC):\n",
    "    def sleep(self):\n",
    "        print(\"I am going to sleep in a while\")\n",
    "        \n",
    "    @abstractmethod\n",
    "    def sound(self):\n",
    "        print(\"This method is for defining the sound by any animal\")\n",
    "\n",
    "class Snake(Animal):\n",
    "    def sound(self):\n",
    "        print(\"I can hiss\")\n",
    "    \n",
    "class Dog(Animal):\n",
    "    def sound(self):\n",
    "        print(\"I can bark\")\n",
    "        \n",
    "class Lion(Animal):\n",
    "    def sound(self):\n",
    "        print(\"I can roar\")\n",
    "\n",
    "class Cat(Animal):\n",
    "    def sound(self):\n",
    "        print(\"I can meow\")"
   ]
  },
  {
   "cell_type": "code",
   "execution_count": 3,
   "id": "b980ed82-e92f-4054-baca-ef56a09ba142",
   "metadata": {},
   "outputs": [
    {
     "name": "stdout",
     "output_type": "stream",
     "text": [
      "I am going to sleep in a while\n",
      "I can meow\n",
      "I can hiss\n",
      "I am going to sleep in a while\n"
     ]
    }
   ],
   "source": [
    "c = Cat()\n",
    "c.sleep()\n",
    "c.sound()\n",
    "\n",
    "c = Snake()\n",
    "c.sound()\n",
    "c.sleep()"
   ]
  },
  {
   "cell_type": "code",
   "execution_count": 4,
   "id": "e8376fd1-3b8f-456f-b741-7f8cb9fe0a37",
   "metadata": {},
   "outputs": [
    {
     "name": "stdout",
     "output_type": "stream",
     "text": [
      "This method is for defining the sound by any animal\n",
      "I can squeak\n"
     ]
    }
   ],
   "source": [
    "class Rabbit(Animal):\n",
    "    def sound(self):\n",
    "        super().sound()\n",
    "        print(\"I can squeak\")\n",
    "        \n",
    "        \n",
    "c = Rabbit()\n",
    "c.sound()"
   ]
  },
  {
   "cell_type": "code",
   "execution_count": 5,
   "id": "d36ccea4-c38d-429b-addd-297fadcbd97d",
   "metadata": {},
   "outputs": [
    {
     "ename": "TypeError",
     "evalue": "Can't instantiate abstract class Deer with abstract method sound",
     "output_type": "error",
     "traceback": [
      "\u001b[0;31m---------------------------------------------------------------------------\u001b[0m",
      "\u001b[0;31mTypeError\u001b[0m                                 Traceback (most recent call last)",
      "Input \u001b[0;32mIn [5]\u001b[0m, in \u001b[0;36m<cell line: 4>\u001b[0;34m()\u001b[0m\n\u001b[1;32m      1\u001b[0m \u001b[38;5;28;01mclass\u001b[39;00m \u001b[38;5;21;01mDeer\u001b[39;00m(Animal):\n\u001b[1;32m      2\u001b[0m     \u001b[38;5;28;01mpass\u001b[39;00m\n\u001b[0;32m----> 4\u001b[0m c \u001b[38;5;241m=\u001b[39m \u001b[43mDeer\u001b[49m\u001b[43m(\u001b[49m\u001b[43m)\u001b[49m\n",
      "\u001b[0;31mTypeError\u001b[0m: Can't instantiate abstract class Deer with abstract method sound"
     ]
    }
   ],
   "source": [
    "class Deer(Animal):\n",
    "    pass\n",
    "\n",
    "c = Deer()"
   ]
  },
  {
   "cell_type": "code",
   "execution_count": null,
   "id": "1685e334-e7ca-4df9-8b81-1b619a9dd7cf",
   "metadata": {},
   "outputs": [],
   "source": []
  }
 ],
 "metadata": {
  "kernelspec": {
   "display_name": "Python 3 (ipykernel)",
   "language": "python",
   "name": "python3"
  },
  "language_info": {
   "codemirror_mode": {
    "name": "ipython",
    "version": 3
   },
   "file_extension": ".py",
   "mimetype": "text/x-python",
   "name": "python",
   "nbconvert_exporter": "python",
   "pygments_lexer": "ipython3",
   "version": "3.9.12"
  }
 },
 "nbformat": 4,
 "nbformat_minor": 5
}
