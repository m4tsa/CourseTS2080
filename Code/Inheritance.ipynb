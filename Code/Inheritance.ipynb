{
 "cells": [
  {
   "cell_type": "code",
   "execution_count": 1,
   "id": "14bd7a49-1e34-43dc-a1ef-44ca483280dc",
   "metadata": {},
   "outputs": [
    {
     "name": "stdout",
     "output_type": "stream",
     "text": [
      "Hello Parent\n",
      "Hello Child\n"
     ]
    }
   ],
   "source": [
    "class parent:\n",
    "    def func1(self):\n",
    "        print(\"Hello Parent\")\n",
    "        \n",
    "class child(parent):\n",
    "    def func2(self):\n",
    "        print(\"Hello Child\")\n",
    "\n",
    "test = child()\n",
    "test.func1()\n",
    "test.func2()"
   ]
  },
  {
   "cell_type": "code",
   "execution_count": 13,
   "id": "d4761af9-360a-4f83-95c6-4db24d5e058f",
   "metadata": {},
   "outputs": [
    {
     "name": "stdout",
     "output_type": "stream",
     "text": [
      "Hello Parent1\n",
      "Hello Parent2\n",
      "Hello Child\n",
      "(<class '__main__.child'>, <class '__main__.parent1'>, <class '__main__.parent2'>, <class '__main__.parent3'>, <class 'object'>)\n"
     ]
    }
   ],
   "source": [
    "class parent1:\n",
    "    def func1(self):\n",
    "        print(\"Hello Parent1\")\n",
    "        \n",
    "class parent2:\n",
    "    def func2(self):\n",
    "        print(\"Hello Parent2\")\n",
    "        \n",
    "class parent3:\n",
    "    def func2(self):\n",
    "        print(\"Hello Parent3\")\n",
    "        \n",
    "class child(parent1, parent2, parent3):\n",
    "    def func3(self):\n",
    "        print(\"Hello Child\")\n",
    "        \n",
    "test = child()\n",
    "test.func1()\n",
    "test.func2()\n",
    "test.func3()\n",
    "\n",
    "print(child.__mro__)"
   ]
  },
  {
   "cell_type": "code",
   "execution_count": 15,
   "id": "fee995a3-6062-437b-b9ad-fcb559886182",
   "metadata": {},
   "outputs": [
    {
     "name": "stdout",
     "output_type": "stream",
     "text": [
      "True\n",
      "False\n",
      "True\n",
      "True\n",
      "False\n",
      "True\n"
     ]
    }
   ],
   "source": [
    "class parent:\n",
    "    def func1():\n",
    "        print(\"Hello Parent\")\n",
    "        \n",
    "class child(parent):\n",
    "    def func2():\n",
    "        print(\"Hello Child\")\n",
    "        \n",
    "print(issubclass(child,parent))\n",
    "print(issubclass(parent,child))\n",
    "\n",
    "A = child()\n",
    "B = parent()\n",
    "\n",
    "print(isinstance(A,child))\n",
    "print(isinstance(A,parent))\n",
    "print(isinstance(B,child))\n",
    "print(isinstance(B,parent))"
   ]
  }
 ],
 "metadata": {
  "kernelspec": {
   "display_name": "Python 3 (ipykernel)",
   "language": "python",
   "name": "python3"
  },
  "language_info": {
   "codemirror_mode": {
    "name": "ipython",
    "version": 3
   },
   "file_extension": ".py",
   "mimetype": "text/x-python",
   "name": "python",
   "nbconvert_exporter": "python",
   "pygments_lexer": "ipython3",
   "version": "3.9.12"
  }
 },
 "nbformat": 4,
 "nbformat_minor": 5
}
